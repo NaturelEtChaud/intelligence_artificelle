{
  "cells": [
    {
      "cell_type": "code",
      "metadata": {
        "tags": [],
        "cell_id": "00000-e9e000f1-9a57-4989-80ab-7d452d82e2d0",
        "deepnote_to_be_reexecuted": false,
        "source_hash": "f49cfcf5",
        "execution_millis": 1467,
        "output_cleared": true,
        "execution_start": 1619438928509,
        "deepnote_cell_type": "code"
      },
      "source": "import pandas as pd\nimport numpy as np\nimport matplotlib.pyplot as plt\nfrom sklearn.utils import shuffle\nfrom sklearn.model_selection import train_test_split\nimport plotly.express as px\nfrom sklearn.tree import DecisionTreeClassifier, plot_tree\nfrom sklearn.manifold import TSNE\nfrom tqdm import tqdm\nfrom matplotlib.colors import ListedColormap\n",
      "execution_count": 1,
      "outputs": []
    },
    {
      "cell_type": "markdown",
      "source": "# Objectif du TP",
      "metadata": {
        "tags": [],
        "cell_id": "00001-530196dd-1efe-4095-9ca2-b9490656c6df",
        "deepnote_cell_type": "markdown"
      }
    },
    {
      "cell_type": "markdown",
      "source": "Dans ce TP, nous allons travailler tout d'abord avec le dataset \"diabetes_train.csv\" qui contient des données médicales relevées pour 653 patients. \n\nChaque ligne de ce dataset correspond à des données médicales obtenues  pour chaque patient (taux de glucose dans le sang, pression artérielle, indice de masse corporelle, etc.). \n\nLa dernière colonne correspond à la classe pour chaque patient (0 : abence de diabète et 1 : présence de diabète).\n\nA partir de ces données d'entraînement, le but est de construire un modèle de prédiction qui permettra de faire des diagnostics pour de nouveaux patients qui arrivent à l'hopital.\n\nCe modèle de prédiction sera ici un modèle de classification binaire, entraîné par apprentissage supervisé.\n\nUne fois votre modèle validé, vous pourrez le tester sur des données de test (\"diabetes_test.csv\"), correspondant aux mêmes caractéristiques relevées pour 115 nouveaux patients pour lesquels la classe 0 ou 1 est inconnue.\n",
      "metadata": {
        "tags": [],
        "cell_id": "00003-0c1071a4-0f43-442a-a067-cf9196f3304b",
        "deepnote_cell_type": "markdown"
      }
    },
    {
      "cell_type": "markdown",
      "source": "# Chargement des données d'entraînement",
      "metadata": {
        "tags": [],
        "cell_id": "00002-be5ccb0d-3367-47b2-82d6-7c6c739d4fbe",
        "deepnote_cell_type": "markdown"
      }
    },
    {
      "cell_type": "code",
      "metadata": {
        "tags": [],
        "cell_id": "00024-cc1475a7-3c3e-46c3-a629-ad84863140c5",
        "deepnote_to_be_reexecuted": false,
        "source_hash": "c73a2fa1",
        "execution_millis": 29,
        "output_cleared": false,
        "execution_start": 1619439273723,
        "deepnote_cell_type": "code"
      },
      "source": "# 1) Chargez les données d'entraînement dans un objet Dataframe pandas (fonction pd.read_csv) et affichez les. Trois onglets apparaissent :\n# - Preview : affichage des répartitions des valeurs de chaque variable\n# - Visualize : affichage de courbes et d'histogrammes pour différents couples de variables\n# - Raw output : données brutes chargées dans le Dataframe\n\ndata = pd.read_csv(\"diabetes_train.csv\")\n\ndata",
      "execution_count": 3,
      "outputs": [
        {
          "output_type": "execute_result",
          "execution_count": 3,
          "data": {
            "application/vnd.deepnote.dataframe.v2+json": {
              "row_count": 653,
              "column_count": 9,
              "columns": [
                {
                  "name": "Pregnancies",
                  "dtype": "int64",
                  "stats": {
                    "unique_count": 17,
                    "nan_count": 0,
                    "min": "0",
                    "max": "17",
                    "histogram": [
                      {
                        "bin_start": 0,
                        "bin_end": 1.7,
                        "count": 205
                      },
                      {
                        "bin_start": 1.7,
                        "bin_end": 3.4,
                        "count": 158
                      },
                      {
                        "bin_start": 3.4,
                        "bin_end": 5.1,
                        "count": 105
                      },
                      {
                        "bin_start": 5.1,
                        "bin_end": 6.8,
                        "count": 40
                      },
                      {
                        "bin_start": 6.8,
                        "bin_end": 8.5,
                        "count": 74
                      },
                      {
                        "bin_start": 8.5,
                        "bin_end": 10.2,
                        "count": 43
                      },
                      {
                        "bin_start": 10.2,
                        "bin_end": 11.9,
                        "count": 9
                      },
                      {
                        "bin_start": 11.9,
                        "bin_end": 13.6,
                        "count": 15
                      },
                      {
                        "bin_start": 13.6,
                        "bin_end": 15.299999999999999,
                        "count": 3
                      },
                      {
                        "bin_start": 15.299999999999999,
                        "bin_end": 17,
                        "count": 1
                      }
                    ]
                  }
                },
                {
                  "name": "Glucose",
                  "dtype": "float64",
                  "stats": {
                    "unique_count": 134,
                    "nan_count": 4,
                    "min": "44.0",
                    "max": "199.0",
                    "histogram": [
                      {
                        "bin_start": 44,
                        "bin_end": 59.5,
                        "count": 3
                      },
                      {
                        "bin_start": 59.5,
                        "bin_end": 75,
                        "count": 16
                      },
                      {
                        "bin_start": 75,
                        "bin_end": 90.5,
                        "count": 71
                      },
                      {
                        "bin_start": 90.5,
                        "bin_end": 106,
                        "count": 131
                      },
                      {
                        "bin_start": 106,
                        "bin_end": 121.5,
                        "count": 142
                      },
                      {
                        "bin_start": 121.5,
                        "bin_end": 137,
                        "count": 107
                      },
                      {
                        "bin_start": 137,
                        "bin_end": 152.5,
                        "count": 72
                      },
                      {
                        "bin_start": 152.5,
                        "bin_end": 168,
                        "count": 42
                      },
                      {
                        "bin_start": 168,
                        "bin_end": 183.5,
                        "count": 37
                      },
                      {
                        "bin_start": 183.5,
                        "bin_end": 199,
                        "count": 28
                      }
                    ]
                  }
                },
                {
                  "name": "BloodPressure",
                  "dtype": "float64",
                  "stats": {
                    "unique_count": 45,
                    "nan_count": 30,
                    "min": "24.0",
                    "max": "122.0",
                    "histogram": [
                      {
                        "bin_start": 24,
                        "bin_end": 33.8,
                        "count": 2
                      },
                      {
                        "bin_start": 33.8,
                        "bin_end": 43.6,
                        "count": 2
                      },
                      {
                        "bin_start": 43.6,
                        "bin_end": 53.400000000000006,
                        "count": 33
                      },
                      {
                        "bin_start": 53.400000000000006,
                        "bin_end": 63.2,
                        "count": 104
                      },
                      {
                        "bin_start": 63.2,
                        "bin_end": 73,
                        "count": 188
                      },
                      {
                        "bin_start": 73,
                        "bin_end": 82.80000000000001,
                        "count": 181
                      },
                      {
                        "bin_start": 82.80000000000001,
                        "bin_end": 92.60000000000001,
                        "count": 87
                      },
                      {
                        "bin_start": 92.60000000000001,
                        "bin_end": 102.4,
                        "count": 16
                      },
                      {
                        "bin_start": 102.4,
                        "bin_end": 112.2,
                        "count": 8
                      },
                      {
                        "bin_start": 112.2,
                        "bin_end": 122,
                        "count": 2
                      }
                    ]
                  }
                },
                {
                  "name": "SkinThickness",
                  "dtype": "float64",
                  "stats": {
                    "unique_count": 49,
                    "nan_count": 189,
                    "min": "7.0",
                    "max": "99.0",
                    "histogram": [
                      {
                        "bin_start": 7,
                        "bin_end": 16.2,
                        "count": 54
                      },
                      {
                        "bin_start": 16.2,
                        "bin_end": 25.4,
                        "count": 116
                      },
                      {
                        "bin_start": 25.4,
                        "bin_end": 34.599999999999994,
                        "count": 152
                      },
                      {
                        "bin_start": 34.599999999999994,
                        "bin_end": 43.8,
                        "count": 103
                      },
                      {
                        "bin_start": 43.8,
                        "bin_end": 53,
                        "count": 34
                      },
                      {
                        "bin_start": 53,
                        "bin_end": 62.199999999999996,
                        "count": 4
                      },
                      {
                        "bin_start": 62.199999999999996,
                        "bin_end": 71.39999999999999,
                        "count": 0
                      },
                      {
                        "bin_start": 71.39999999999999,
                        "bin_end": 80.6,
                        "count": 0
                      },
                      {
                        "bin_start": 80.6,
                        "bin_end": 89.8,
                        "count": 0
                      },
                      {
                        "bin_start": 89.8,
                        "bin_end": 99,
                        "count": 1
                      }
                    ]
                  }
                },
                {
                  "name": "Insulin",
                  "dtype": "float64",
                  "stats": {
                    "unique_count": 167,
                    "nan_count": 321,
                    "min": "15.0",
                    "max": "846.0",
                    "histogram": [
                      {
                        "bin_start": 15,
                        "bin_end": 98.1,
                        "count": 113
                      },
                      {
                        "bin_start": 98.1,
                        "bin_end": 181.2,
                        "count": 125
                      },
                      {
                        "bin_start": 181.2,
                        "bin_end": 264.29999999999995,
                        "count": 49
                      },
                      {
                        "bin_start": 264.29999999999995,
                        "bin_end": 347.4,
                        "count": 23
                      },
                      {
                        "bin_start": 347.4,
                        "bin_end": 430.5,
                        "count": 6
                      },
                      {
                        "bin_start": 430.5,
                        "bin_end": 513.5999999999999,
                        "count": 10
                      },
                      {
                        "bin_start": 513.5999999999999,
                        "bin_end": 596.6999999999999,
                        "count": 3
                      },
                      {
                        "bin_start": 596.6999999999999,
                        "bin_end": 679.8,
                        "count": 1
                      },
                      {
                        "bin_start": 679.8,
                        "bin_end": 762.9,
                        "count": 1
                      },
                      {
                        "bin_start": 762.9,
                        "bin_end": 846,
                        "count": 1
                      }
                    ]
                  }
                },
                {
                  "name": "BMI",
                  "dtype": "float64",
                  "stats": {
                    "unique_count": 235,
                    "nan_count": 10,
                    "min": "18.2",
                    "max": "67.1",
                    "histogram": [
                      {
                        "bin_start": 18.2,
                        "bin_end": 23.089999999999996,
                        "count": 48
                      },
                      {
                        "bin_start": 23.089999999999996,
                        "bin_end": 27.979999999999997,
                        "count": 134
                      },
                      {
                        "bin_start": 27.979999999999997,
                        "bin_end": 32.87,
                        "count": 168
                      },
                      {
                        "bin_start": 32.87,
                        "bin_end": 37.75999999999999,
                        "count": 159
                      },
                      {
                        "bin_start": 37.75999999999999,
                        "bin_end": 42.64999999999999,
                        "count": 79
                      },
                      {
                        "bin_start": 42.64999999999999,
                        "bin_end": 47.53999999999999,
                        "count": 45
                      },
                      {
                        "bin_start": 47.53999999999999,
                        "bin_end": 52.42999999999999,
                        "count": 7
                      },
                      {
                        "bin_start": 52.42999999999999,
                        "bin_end": 57.31999999999999,
                        "count": 2
                      },
                      {
                        "bin_start": 57.31999999999999,
                        "bin_end": 62.209999999999994,
                        "count": 0
                      },
                      {
                        "bin_start": 62.209999999999994,
                        "bin_end": 67.1,
                        "count": 1
                      }
                    ]
                  }
                },
                {
                  "name": "DiabetesPedigreeFunction",
                  "dtype": "float64",
                  "stats": {
                    "unique_count": 467,
                    "nan_count": 0,
                    "min": "0.078",
                    "max": "2.329",
                    "histogram": [
                      {
                        "bin_start": 0.078,
                        "bin_end": 0.30310000000000004,
                        "count": 251
                      },
                      {
                        "bin_start": 0.30310000000000004,
                        "bin_end": 0.5282,
                        "count": 173
                      },
                      {
                        "bin_start": 0.5282,
                        "bin_end": 0.7533,
                        "count": 125
                      },
                      {
                        "bin_start": 0.7533,
                        "bin_end": 0.9784,
                        "count": 57
                      },
                      {
                        "bin_start": 0.9784,
                        "bin_end": 1.2035000000000002,
                        "count": 20
                      },
                      {
                        "bin_start": 1.2035000000000002,
                        "bin_end": 1.4286,
                        "count": 15
                      },
                      {
                        "bin_start": 1.4286,
                        "bin_end": 1.6537000000000002,
                        "count": 4
                      },
                      {
                        "bin_start": 1.6537000000000002,
                        "bin_end": 1.8788000000000002,
                        "count": 4
                      },
                      {
                        "bin_start": 1.8788000000000002,
                        "bin_end": 2.1039,
                        "count": 1
                      },
                      {
                        "bin_start": 2.1039,
                        "bin_end": 2.329,
                        "count": 3
                      }
                    ]
                  }
                },
                {
                  "name": "Age",
                  "dtype": "int64",
                  "stats": {
                    "unique_count": 51,
                    "nan_count": 0,
                    "min": "21",
                    "max": "72",
                    "histogram": [
                      {
                        "bin_start": 21,
                        "bin_end": 26.1,
                        "count": 263
                      },
                      {
                        "bin_start": 26.1,
                        "bin_end": 31.2,
                        "count": 120
                      },
                      {
                        "bin_start": 31.2,
                        "bin_end": 36.3,
                        "count": 56
                      },
                      {
                        "bin_start": 36.3,
                        "bin_end": 41.4,
                        "count": 66
                      },
                      {
                        "bin_start": 41.4,
                        "bin_end": 46.5,
                        "count": 57
                      },
                      {
                        "bin_start": 46.5,
                        "bin_end": 51.599999999999994,
                        "count": 27
                      },
                      {
                        "bin_start": 51.599999999999994,
                        "bin_end": 56.699999999999996,
                        "count": 23
                      },
                      {
                        "bin_start": 56.699999999999996,
                        "bin_end": 61.8,
                        "count": 21
                      },
                      {
                        "bin_start": 61.8,
                        "bin_end": 66.9,
                        "count": 12
                      },
                      {
                        "bin_start": 66.9,
                        "bin_end": 72,
                        "count": 8
                      }
                    ]
                  }
                },
                {
                  "name": "Outcome",
                  "dtype": "int64",
                  "stats": {
                    "unique_count": 2,
                    "nan_count": 0,
                    "min": "0",
                    "max": "1",
                    "histogram": [
                      {
                        "bin_start": 0,
                        "bin_end": 0.1,
                        "count": 428
                      },
                      {
                        "bin_start": 0.1,
                        "bin_end": 0.2,
                        "count": 0
                      },
                      {
                        "bin_start": 0.2,
                        "bin_end": 0.30000000000000004,
                        "count": 0
                      },
                      {
                        "bin_start": 0.30000000000000004,
                        "bin_end": 0.4,
                        "count": 0
                      },
                      {
                        "bin_start": 0.4,
                        "bin_end": 0.5,
                        "count": 0
                      },
                      {
                        "bin_start": 0.5,
                        "bin_end": 0.6000000000000001,
                        "count": 0
                      },
                      {
                        "bin_start": 0.6000000000000001,
                        "bin_end": 0.7000000000000001,
                        "count": 0
                      },
                      {
                        "bin_start": 0.7000000000000001,
                        "bin_end": 0.8,
                        "count": 0
                      },
                      {
                        "bin_start": 0.8,
                        "bin_end": 0.9,
                        "count": 0
                      },
                      {
                        "bin_start": 0.9,
                        "bin_end": 1,
                        "count": 225
                      }
                    ]
                  }
                },
                {
                  "name": "_deepnote_index_column",
                  "dtype": "int64"
                }
              ],
              "rows_top": [
                {
                  "Pregnancies": 1,
                  "Glucose": 138,
                  "BloodPressure": "82.0",
                  "SkinThickness": "nan",
                  "Insulin": "nan",
                  "BMI": 40.1,
                  "DiabetesPedigreeFunction": 0.236,
                  "Age": 28,
                  "Outcome": 0,
                  "_deepnote_index_column": 0
                },
                {
                  "Pregnancies": 3,
                  "Glucose": 90,
                  "BloodPressure": "78.0",
                  "SkinThickness": "nan",
                  "Insulin": "nan",
                  "BMI": 42.7,
                  "DiabetesPedigreeFunction": 0.5589999999999999,
                  "Age": 21,
                  "Outcome": 0,
                  "_deepnote_index_column": 1
                },
                {
                  "Pregnancies": 2,
                  "Glucose": 109,
                  "BloodPressure": "92.0",
                  "SkinThickness": "nan",
                  "Insulin": "nan",
                  "BMI": 42.7,
                  "DiabetesPedigreeFunction": 0.845,
                  "Age": 54,
                  "Outcome": 0,
                  "_deepnote_index_column": 2
                },
                {
                  "Pregnancies": 1,
                  "Glucose": 71,
                  "BloodPressure": "78.0",
                  "SkinThickness": "50.0",
                  "Insulin": "45.0",
                  "BMI": 33.2,
                  "DiabetesPedigreeFunction": 0.422,
                  "Age": 21,
                  "Outcome": 0,
                  "_deepnote_index_column": 3
                },
                {
                  "Pregnancies": 0,
                  "Glucose": 167,
                  "BloodPressure": "nan",
                  "SkinThickness": "nan",
                  "Insulin": "nan",
                  "BMI": 32.3,
                  "DiabetesPedigreeFunction": 0.8390000000000001,
                  "Age": 30,
                  "Outcome": 1,
                  "_deepnote_index_column": 4
                },
                {
                  "Pregnancies": 1,
                  "Glucose": 85,
                  "BloodPressure": "66.0",
                  "SkinThickness": "29.0",
                  "Insulin": "nan",
                  "BMI": 26.6,
                  "DiabetesPedigreeFunction": 0.351,
                  "Age": 31,
                  "Outcome": 0,
                  "_deepnote_index_column": 5
                },
                {
                  "Pregnancies": 3,
                  "Glucose": 125,
                  "BloodPressure": "58.0",
                  "SkinThickness": "nan",
                  "Insulin": "nan",
                  "BMI": 31.6,
                  "DiabetesPedigreeFunction": 0.151,
                  "Age": 24,
                  "Outcome": 0,
                  "_deepnote_index_column": 6
                },
                {
                  "Pregnancies": 0,
                  "Glucose": 113,
                  "BloodPressure": "80.0",
                  "SkinThickness": "16.0",
                  "Insulin": "nan",
                  "BMI": 31,
                  "DiabetesPedigreeFunction": 0.8740000000000001,
                  "Age": 21,
                  "Outcome": 0,
                  "_deepnote_index_column": 7
                },
                {
                  "Pregnancies": 3,
                  "Glucose": 148,
                  "BloodPressure": "66.0",
                  "SkinThickness": "25.0",
                  "Insulin": "nan",
                  "BMI": 32.5,
                  "DiabetesPedigreeFunction": 0.256,
                  "Age": 22,
                  "Outcome": 0,
                  "_deepnote_index_column": 8
                },
                {
                  "Pregnancies": 11,
                  "Glucose": 103,
                  "BloodPressure": "68.0",
                  "SkinThickness": "40.0",
                  "Insulin": "nan",
                  "BMI": 46.2,
                  "DiabetesPedigreeFunction": 0.126,
                  "Age": 42,
                  "Outcome": 0,
                  "_deepnote_index_column": 9
                },
                {
                  "Pregnancies": 2,
                  "Glucose": 99,
                  "BloodPressure": "52.0",
                  "SkinThickness": "15.0",
                  "Insulin": "94.0",
                  "BMI": 24.6,
                  "DiabetesPedigreeFunction": 0.637,
                  "Age": 21,
                  "Outcome": 0,
                  "_deepnote_index_column": 10
                },
                {
                  "Pregnancies": 13,
                  "Glucose": 106,
                  "BloodPressure": "72.0",
                  "SkinThickness": "54.0",
                  "Insulin": "nan",
                  "BMI": 36.6,
                  "DiabetesPedigreeFunction": 0.178,
                  "Age": 45,
                  "Outcome": 0,
                  "_deepnote_index_column": 11
                },
                {
                  "Pregnancies": 6,
                  "Glucose": 80,
                  "BloodPressure": "80.0",
                  "SkinThickness": "36.0",
                  "Insulin": "nan",
                  "BMI": 39.8,
                  "DiabetesPedigreeFunction": 0.177,
                  "Age": 28,
                  "Outcome": 0,
                  "_deepnote_index_column": 12
                },
                {
                  "Pregnancies": 4,
                  "Glucose": 97,
                  "BloodPressure": "60.0",
                  "SkinThickness": "23.0",
                  "Insulin": "nan",
                  "BMI": 28.2,
                  "DiabetesPedigreeFunction": 0.4429999999999999,
                  "Age": 22,
                  "Outcome": 0,
                  "_deepnote_index_column": 13
                },
                {
                  "Pregnancies": 1,
                  "Glucose": 100,
                  "BloodPressure": "66.0",
                  "SkinThickness": "15.0",
                  "Insulin": "56.0",
                  "BMI": 23.6,
                  "DiabetesPedigreeFunction": 0.6659999999999999,
                  "Age": 26,
                  "Outcome": 0,
                  "_deepnote_index_column": 14
                },
                {
                  "Pregnancies": 10,
                  "Glucose": 122,
                  "BloodPressure": "68.0",
                  "SkinThickness": "nan",
                  "Insulin": "nan",
                  "BMI": 31.2,
                  "DiabetesPedigreeFunction": 0.258,
                  "Age": 41,
                  "Outcome": 0,
                  "_deepnote_index_column": 15
                },
                {
                  "Pregnancies": 4,
                  "Glucose": 110,
                  "BloodPressure": "76.0",
                  "SkinThickness": "20.0",
                  "Insulin": "100.0",
                  "BMI": 28.4,
                  "DiabetesPedigreeFunction": 0.118,
                  "Age": 27,
                  "Outcome": 0,
                  "_deepnote_index_column": 16
                },
                {
                  "Pregnancies": 2,
                  "Glucose": 122,
                  "BloodPressure": "70.0",
                  "SkinThickness": "27.0",
                  "Insulin": "nan",
                  "BMI": 36.8,
                  "DiabetesPedigreeFunction": 0.34,
                  "Age": 27,
                  "Outcome": 0,
                  "_deepnote_index_column": 17
                },
                {
                  "Pregnancies": 2,
                  "Glucose": 89,
                  "BloodPressure": "90.0",
                  "SkinThickness": "30.0",
                  "Insulin": "nan",
                  "BMI": 33.5,
                  "DiabetesPedigreeFunction": 0.292,
                  "Age": 42,
                  "Outcome": 0,
                  "_deepnote_index_column": 18
                },
                {
                  "Pregnancies": 3,
                  "Glucose": 174,
                  "BloodPressure": "58.0",
                  "SkinThickness": "22.0",
                  "Insulin": "194.0",
                  "BMI": 32.9,
                  "DiabetesPedigreeFunction": 0.593,
                  "Age": 36,
                  "Outcome": 1,
                  "_deepnote_index_column": 19
                },
                {
                  "Pregnancies": 9,
                  "Glucose": 89,
                  "BloodPressure": "62.0",
                  "SkinThickness": "nan",
                  "Insulin": "nan",
                  "BMI": 22.5,
                  "DiabetesPedigreeFunction": 0.142,
                  "Age": 33,
                  "Outcome": 0,
                  "_deepnote_index_column": 20
                },
                {
                  "Pregnancies": 3,
                  "Glucose": 129,
                  "BloodPressure": "64.0",
                  "SkinThickness": "29.0",
                  "Insulin": "115.0",
                  "BMI": 26.4,
                  "DiabetesPedigreeFunction": 0.2189999999999999,
                  "Age": 28,
                  "Outcome": 1,
                  "_deepnote_index_column": 21
                },
                {
                  "Pregnancies": 3,
                  "Glucose": 141,
                  "BloodPressure": "nan",
                  "SkinThickness": "nan",
                  "Insulin": "nan",
                  "BMI": 30,
                  "DiabetesPedigreeFunction": 0.7609999999999999,
                  "Age": 27,
                  "Outcome": 1,
                  "_deepnote_index_column": 22
                },
                {
                  "Pregnancies": 4,
                  "Glucose": 109,
                  "BloodPressure": "64.0",
                  "SkinThickness": "44.0",
                  "Insulin": "99.0",
                  "BMI": 34.8,
                  "DiabetesPedigreeFunction": 0.905,
                  "Age": 26,
                  "Outcome": 1,
                  "_deepnote_index_column": 23
                },
                {
                  "Pregnancies": 2,
                  "Glucose": 134,
                  "BloodPressure": "70.0",
                  "SkinThickness": "nan",
                  "Insulin": "nan",
                  "BMI": 28.9,
                  "DiabetesPedigreeFunction": 0.542,
                  "Age": 23,
                  "Outcome": 1,
                  "_deepnote_index_column": 24
                },
                {
                  "Pregnancies": 3,
                  "Glucose": 82,
                  "BloodPressure": "70.0",
                  "SkinThickness": "nan",
                  "Insulin": "nan",
                  "BMI": 21.1,
                  "DiabetesPedigreeFunction": 0.389,
                  "Age": 25,
                  "Outcome": 0,
                  "_deepnote_index_column": 25
                },
                {
                  "Pregnancies": 1,
                  "Glucose": 97,
                  "BloodPressure": "64.0",
                  "SkinThickness": "19.0",
                  "Insulin": "82.0",
                  "BMI": 18.2,
                  "DiabetesPedigreeFunction": 0.299,
                  "Age": 21,
                  "Outcome": 0,
                  "_deepnote_index_column": 26
                },
                {
                  "Pregnancies": 4,
                  "Glucose": 134,
                  "BloodPressure": "72.0",
                  "SkinThickness": "nan",
                  "Insulin": "nan",
                  "BMI": 23.8,
                  "DiabetesPedigreeFunction": 0.2769999999999999,
                  "Age": 60,
                  "Outcome": 1,
                  "_deepnote_index_column": 27
                },
                {
                  "Pregnancies": 4,
                  "Glucose": 145,
                  "BloodPressure": "82.0",
                  "SkinThickness": "18.0",
                  "Insulin": "nan",
                  "BMI": 32.5,
                  "DiabetesPedigreeFunction": 0.235,
                  "Age": 70,
                  "Outcome": 1,
                  "_deepnote_index_column": 28
                },
                {
                  "Pregnancies": 2,
                  "Glucose": 99,
                  "BloodPressure": "70.0",
                  "SkinThickness": "16.0",
                  "Insulin": "44.0",
                  "BMI": 20.4,
                  "DiabetesPedigreeFunction": 0.235,
                  "Age": 27,
                  "Outcome": 0,
                  "_deepnote_index_column": 29
                },
                {
                  "Pregnancies": 3,
                  "Glucose": 173,
                  "BloodPressure": "84.0",
                  "SkinThickness": "33.0",
                  "Insulin": "474.0",
                  "BMI": 35.7,
                  "DiabetesPedigreeFunction": 0.258,
                  "Age": 22,
                  "Outcome": 1,
                  "_deepnote_index_column": 30
                },
                {
                  "Pregnancies": 6,
                  "Glucose": 104,
                  "BloodPressure": "74.0",
                  "SkinThickness": "18.0",
                  "Insulin": "156.0",
                  "BMI": 29.9,
                  "DiabetesPedigreeFunction": 0.722,
                  "Age": 41,
                  "Outcome": 1,
                  "_deepnote_index_column": 31
                },
                {
                  "Pregnancies": 5,
                  "Glucose": 122,
                  "BloodPressure": "86.0",
                  "SkinThickness": "nan",
                  "Insulin": "nan",
                  "BMI": 34.7,
                  "DiabetesPedigreeFunction": 0.29,
                  "Age": 33,
                  "Outcome": 0,
                  "_deepnote_index_column": 32
                },
                {
                  "Pregnancies": 1,
                  "Glucose": 146,
                  "BloodPressure": "56.0",
                  "SkinThickness": "nan",
                  "Insulin": "nan",
                  "BMI": 29.7,
                  "DiabetesPedigreeFunction": 0.564,
                  "Age": 29,
                  "Outcome": 0,
                  "_deepnote_index_column": 33
                },
                {
                  "Pregnancies": 9,
                  "Glucose": 122,
                  "BloodPressure": "56.0",
                  "SkinThickness": "nan",
                  "Insulin": "nan",
                  "BMI": 33.3,
                  "DiabetesPedigreeFunction": 1.114,
                  "Age": 33,
                  "Outcome": 1,
                  "_deepnote_index_column": 34
                },
                {
                  "Pregnancies": 5,
                  "Glucose": 109,
                  "BloodPressure": "75.0",
                  "SkinThickness": "26.0",
                  "Insulin": "nan",
                  "BMI": 36,
                  "DiabetesPedigreeFunction": 0.546,
                  "Age": 60,
                  "Outcome": 0,
                  "_deepnote_index_column": 35
                },
                {
                  "Pregnancies": 9,
                  "Glucose": 165,
                  "BloodPressure": "88.0",
                  "SkinThickness": "nan",
                  "Insulin": "nan",
                  "BMI": 30.4,
                  "DiabetesPedigreeFunction": 0.302,
                  "Age": 49,
                  "Outcome": 1,
                  "_deepnote_index_column": 36
                },
                {
                  "Pregnancies": 3,
                  "Glucose": 80,
                  "BloodPressure": "82.0",
                  "SkinThickness": "31.0",
                  "Insulin": "70.0",
                  "BMI": 34.2,
                  "DiabetesPedigreeFunction": 1.2919999999999998,
                  "Age": 27,
                  "Outcome": 1,
                  "_deepnote_index_column": 37
                },
                {
                  "Pregnancies": 0,
                  "Glucose": 105,
                  "BloodPressure": "68.0",
                  "SkinThickness": "22.0",
                  "Insulin": "nan",
                  "BMI": 20,
                  "DiabetesPedigreeFunction": 0.236,
                  "Age": 22,
                  "Outcome": 0,
                  "_deepnote_index_column": 38
                },
                {
                  "Pregnancies": 2,
                  "Glucose": 100,
                  "BloodPressure": "66.0",
                  "SkinThickness": "20.0",
                  "Insulin": "90.0",
                  "BMI": 32.9,
                  "DiabetesPedigreeFunction": 0.867,
                  "Age": 28,
                  "Outcome": 1,
                  "_deepnote_index_column": 39
                },
                {
                  "Pregnancies": 6,
                  "Glucose": 154,
                  "BloodPressure": "78.0",
                  "SkinThickness": "41.0",
                  "Insulin": "140.0",
                  "BMI": 46.1,
                  "DiabetesPedigreeFunction": 0.5710000000000001,
                  "Age": 27,
                  "Outcome": 0,
                  "_deepnote_index_column": 40
                },
                {
                  "Pregnancies": 1,
                  "Glucose": 108,
                  "BloodPressure": "60.0",
                  "SkinThickness": "46.0",
                  "Insulin": "178.0",
                  "BMI": 35.5,
                  "DiabetesPedigreeFunction": 0.415,
                  "Age": 24,
                  "Outcome": 0,
                  "_deepnote_index_column": 41
                },
                {
                  "Pregnancies": 1,
                  "Glucose": 117,
                  "BloodPressure": "60.0",
                  "SkinThickness": "23.0",
                  "Insulin": "106.0",
                  "BMI": 33.8,
                  "DiabetesPedigreeFunction": 0.466,
                  "Age": 27,
                  "Outcome": 0,
                  "_deepnote_index_column": 42
                },
                {
                  "Pregnancies": 6,
                  "Glucose": 134,
                  "BloodPressure": "80.0",
                  "SkinThickness": "37.0",
                  "Insulin": "370.0",
                  "BMI": 46.2,
                  "DiabetesPedigreeFunction": 0.238,
                  "Age": 46,
                  "Outcome": 1,
                  "_deepnote_index_column": 43
                },
                {
                  "Pregnancies": 8,
                  "Glucose": 197,
                  "BloodPressure": "74.0",
                  "SkinThickness": "nan",
                  "Insulin": "nan",
                  "BMI": 25.9,
                  "DiabetesPedigreeFunction": 1.1909999999999998,
                  "Age": 39,
                  "Outcome": 1,
                  "_deepnote_index_column": 44
                },
                {
                  "Pregnancies": 1,
                  "Glucose": 93,
                  "BloodPressure": "56.0",
                  "SkinThickness": "11.0",
                  "Insulin": "nan",
                  "BMI": 22.5,
                  "DiabetesPedigreeFunction": 0.417,
                  "Age": 22,
                  "Outcome": 0,
                  "_deepnote_index_column": 45
                },
                {
                  "Pregnancies": 0,
                  "Glucose": 127,
                  "BloodPressure": "80.0",
                  "SkinThickness": "37.0",
                  "Insulin": "210.0",
                  "BMI": 36.3,
                  "DiabetesPedigreeFunction": 0.804,
                  "Age": 23,
                  "Outcome": 0,
                  "_deepnote_index_column": 46
                },
                {
                  "Pregnancies": 0,
                  "Glucose": 126,
                  "BloodPressure": "84.0",
                  "SkinThickness": "29.0",
                  "Insulin": "215.0",
                  "BMI": 30.7,
                  "DiabetesPedigreeFunction": 0.52,
                  "Age": 24,
                  "Outcome": 0,
                  "_deepnote_index_column": 47
                },
                {
                  "Pregnancies": 1,
                  "Glucose": 80,
                  "BloodPressure": "74.0",
                  "SkinThickness": "11.0",
                  "Insulin": "60.0",
                  "BMI": 30,
                  "DiabetesPedigreeFunction": 0.527,
                  "Age": 22,
                  "Outcome": 0,
                  "_deepnote_index_column": 48
                },
                {
                  "Pregnancies": 14,
                  "Glucose": 175,
                  "BloodPressure": "62.0",
                  "SkinThickness": "30.0",
                  "Insulin": "nan",
                  "BMI": 33.6,
                  "DiabetesPedigreeFunction": 0.212,
                  "Age": 38,
                  "Outcome": 1,
                  "_deepnote_index_column": 49
                },
                {
                  "Pregnancies": 12,
                  "Glucose": 88,
                  "BloodPressure": "74.0",
                  "SkinThickness": "40.0",
                  "Insulin": "54.0",
                  "BMI": 35.3,
                  "DiabetesPedigreeFunction": 0.3779999999999999,
                  "Age": 48,
                  "Outcome": 0,
                  "_deepnote_index_column": 50
                },
                {
                  "Pregnancies": 8,
                  "Glucose": 110,
                  "BloodPressure": "76.0",
                  "SkinThickness": "nan",
                  "Insulin": "nan",
                  "BMI": 27.8,
                  "DiabetesPedigreeFunction": 0.237,
                  "Age": 58,
                  "Outcome": 0,
                  "_deepnote_index_column": 51
                },
                {
                  "Pregnancies": 5,
                  "Glucose": 147,
                  "BloodPressure": "75.0",
                  "SkinThickness": "nan",
                  "Insulin": "nan",
                  "BMI": 29.9,
                  "DiabetesPedigreeFunction": 0.434,
                  "Age": 28,
                  "Outcome": 0,
                  "_deepnote_index_column": 52
                },
                {
                  "Pregnancies": 6,
                  "Glucose": 148,
                  "BloodPressure": "72.0",
                  "SkinThickness": "35.0",
                  "Insulin": "nan",
                  "BMI": 33.6,
                  "DiabetesPedigreeFunction": 0.627,
                  "Age": 50,
                  "Outcome": 1,
                  "_deepnote_index_column": 53
                },
                {
                  "Pregnancies": 5,
                  "Glucose": 132,
                  "BloodPressure": "80.0",
                  "SkinThickness": "nan",
                  "Insulin": "nan",
                  "BMI": 26.8,
                  "DiabetesPedigreeFunction": 0.186,
                  "Age": 69,
                  "Outcome": 0,
                  "_deepnote_index_column": 54
                }
              ],
              "rows_bottom": [
                {
                  "Pregnancies": 5,
                  "Glucose": 44,
                  "BloodPressure": "62.0",
                  "SkinThickness": "nan",
                  "Insulin": "nan",
                  "BMI": 25,
                  "DiabetesPedigreeFunction": 0.5870000000000001,
                  "Age": 36,
                  "Outcome": 0,
                  "_deepnote_index_column": 597
                },
                {
                  "Pregnancies": 4,
                  "Glucose": 146,
                  "BloodPressure": "92.0",
                  "SkinThickness": "nan",
                  "Insulin": "nan",
                  "BMI": 31.2,
                  "DiabetesPedigreeFunction": 0.539,
                  "Age": 61,
                  "Outcome": 1,
                  "_deepnote_index_column": 598
                },
                {
                  "Pregnancies": 0,
                  "Glucose": 105,
                  "BloodPressure": "64.0",
                  "SkinThickness": "41.0",
                  "Insulin": "142.0",
                  "BMI": 41.5,
                  "DiabetesPedigreeFunction": 0.173,
                  "Age": 22,
                  "Outcome": 0,
                  "_deepnote_index_column": 599
                },
                {
                  "Pregnancies": 8,
                  "Glucose": 84,
                  "BloodPressure": "74.0",
                  "SkinThickness": "31.0",
                  "Insulin": "nan",
                  "BMI": 38.3,
                  "DiabetesPedigreeFunction": 0.457,
                  "Age": 39,
                  "Outcome": 0,
                  "_deepnote_index_column": 600
                },
                {
                  "Pregnancies": 5,
                  "Glucose": 166,
                  "BloodPressure": "76.0",
                  "SkinThickness": "nan",
                  "Insulin": "nan",
                  "BMI": 45.7,
                  "DiabetesPedigreeFunction": 0.34,
                  "Age": 27,
                  "Outcome": 1,
                  "_deepnote_index_column": 601
                },
                {
                  "Pregnancies": 1,
                  "Glucose": 93,
                  "BloodPressure": "70.0",
                  "SkinThickness": "31.0",
                  "Insulin": "nan",
                  "BMI": 30.4,
                  "DiabetesPedigreeFunction": 0.315,
                  "Age": 23,
                  "Outcome": 0,
                  "_deepnote_index_column": 602
                },
                {
                  "Pregnancies": 0,
                  "Glucose": 179,
                  "BloodPressure": "50.0",
                  "SkinThickness": "36.0",
                  "Insulin": "159.0",
                  "BMI": 37.8,
                  "DiabetesPedigreeFunction": 0.455,
                  "Age": 22,
                  "Outcome": 1,
                  "_deepnote_index_column": 603
                },
                {
                  "Pregnancies": 2,
                  "Glucose": 105,
                  "BloodPressure": "80.0",
                  "SkinThickness": "45.0",
                  "Insulin": "191.0",
                  "BMI": 33.7,
                  "DiabetesPedigreeFunction": 0.711,
                  "Age": 29,
                  "Outcome": 1,
                  "_deepnote_index_column": 604
                },
                {
                  "Pregnancies": 1,
                  "Glucose": 147,
                  "BloodPressure": "94.0",
                  "SkinThickness": "41.0",
                  "Insulin": "nan",
                  "BMI": 49.3,
                  "DiabetesPedigreeFunction": 0.358,
                  "Age": 27,
                  "Outcome": 1,
                  "_deepnote_index_column": 605
                },
                {
                  "Pregnancies": 0,
                  "Glucose": 151,
                  "BloodPressure": "90.0",
                  "SkinThickness": "46.0",
                  "Insulin": "nan",
                  "BMI": 42.1,
                  "DiabetesPedigreeFunction": 0.371,
                  "Age": 21,
                  "Outcome": 1,
                  "_deepnote_index_column": 606
                },
                {
                  "Pregnancies": 1,
                  "Glucose": 111,
                  "BloodPressure": "94.0",
                  "SkinThickness": "nan",
                  "Insulin": "nan",
                  "BMI": 32.8,
                  "DiabetesPedigreeFunction": 0.265,
                  "Age": 45,
                  "Outcome": 0,
                  "_deepnote_index_column": 607
                },
                {
                  "Pregnancies": 2,
                  "Glucose": 108,
                  "BloodPressure": "62.0",
                  "SkinThickness": "10.0",
                  "Insulin": "278.0",
                  "BMI": 25.3,
                  "DiabetesPedigreeFunction": 0.8809999999999999,
                  "Age": 22,
                  "Outcome": 0,
                  "_deepnote_index_column": 608
                },
                {
                  "Pregnancies": 7,
                  "Glucose": 62,
                  "BloodPressure": "78.0",
                  "SkinThickness": "nan",
                  "Insulin": "nan",
                  "BMI": 32.6,
                  "DiabetesPedigreeFunction": 0.391,
                  "Age": 41,
                  "Outcome": 0,
                  "_deepnote_index_column": 609
                },
                {
                  "Pregnancies": 7,
                  "Glucose": 194,
                  "BloodPressure": "68.0",
                  "SkinThickness": "28.0",
                  "Insulin": "nan",
                  "BMI": 35.9,
                  "DiabetesPedigreeFunction": 0.745,
                  "Age": 41,
                  "Outcome": 1,
                  "_deepnote_index_column": 610
                },
                {
                  "Pregnancies": 1,
                  "Glucose": 128,
                  "BloodPressure": "98.0",
                  "SkinThickness": "41.0",
                  "Insulin": "58.0",
                  "BMI": 32,
                  "DiabetesPedigreeFunction": 1.321,
                  "Age": 33,
                  "Outcome": 1,
                  "_deepnote_index_column": 611
                },
                {
                  "Pregnancies": 7,
                  "Glucose": 109,
                  "BloodPressure": "80.0",
                  "SkinThickness": "31.0",
                  "Insulin": "nan",
                  "BMI": 35.9,
                  "DiabetesPedigreeFunction": 1.127,
                  "Age": 43,
                  "Outcome": 1,
                  "_deepnote_index_column": 612
                },
                {
                  "Pregnancies": 6,
                  "Glucose": 151,
                  "BloodPressure": "62.0",
                  "SkinThickness": "31.0",
                  "Insulin": "120.0",
                  "BMI": 35.5,
                  "DiabetesPedigreeFunction": 0.6920000000000001,
                  "Age": 28,
                  "Outcome": 0,
                  "_deepnote_index_column": 613
                },
                {
                  "Pregnancies": 2,
                  "Glucose": 87,
                  "BloodPressure": "58.0",
                  "SkinThickness": "16.0",
                  "Insulin": "52.0",
                  "BMI": 32.7,
                  "DiabetesPedigreeFunction": 0.166,
                  "Age": 25,
                  "Outcome": 0,
                  "_deepnote_index_column": 614
                },
                {
                  "Pregnancies": 1,
                  "Glucose": 90,
                  "BloodPressure": "62.0",
                  "SkinThickness": "12.0",
                  "Insulin": "43.0",
                  "BMI": 27.2,
                  "DiabetesPedigreeFunction": 0.58,
                  "Age": 24,
                  "Outcome": 0,
                  "_deepnote_index_column": 615
                },
                {
                  "Pregnancies": 9,
                  "Glucose": 164,
                  "BloodPressure": "78.0",
                  "SkinThickness": "nan",
                  "Insulin": "nan",
                  "BMI": 32.8,
                  "DiabetesPedigreeFunction": 0.148,
                  "Age": 45,
                  "Outcome": 1,
                  "_deepnote_index_column": 616
                },
                {
                  "Pregnancies": 6,
                  "Glucose": 129,
                  "BloodPressure": "90.0",
                  "SkinThickness": "7.0",
                  "Insulin": "326.0",
                  "BMI": 19.6,
                  "DiabetesPedigreeFunction": 0.5820000000000001,
                  "Age": 60,
                  "Outcome": 0,
                  "_deepnote_index_column": 617
                },
                {
                  "Pregnancies": 15,
                  "Glucose": 136,
                  "BloodPressure": "70.0",
                  "SkinThickness": "32.0",
                  "Insulin": "110.0",
                  "BMI": 37.1,
                  "DiabetesPedigreeFunction": 0.153,
                  "Age": 43,
                  "Outcome": 1,
                  "_deepnote_index_column": 618
                },
                {
                  "Pregnancies": 1,
                  "Glucose": 136,
                  "BloodPressure": "74.0",
                  "SkinThickness": "50.0",
                  "Insulin": "204.0",
                  "BMI": 37.4,
                  "DiabetesPedigreeFunction": 0.3989999999999999,
                  "Age": 24,
                  "Outcome": 0,
                  "_deepnote_index_column": 619
                },
                {
                  "Pregnancies": 1,
                  "Glucose": 107,
                  "BloodPressure": "72.0",
                  "SkinThickness": "30.0",
                  "Insulin": "82.0",
                  "BMI": 30.8,
                  "DiabetesPedigreeFunction": 0.821,
                  "Age": 24,
                  "Outcome": 0,
                  "_deepnote_index_column": 620
                },
                {
                  "Pregnancies": 5,
                  "Glucose": 144,
                  "BloodPressure": "82.0",
                  "SkinThickness": "26.0",
                  "Insulin": "285.0",
                  "BMI": 32,
                  "DiabetesPedigreeFunction": 0.452,
                  "Age": 58,
                  "Outcome": 1,
                  "_deepnote_index_column": 621
                },
                {
                  "Pregnancies": 2,
                  "Glucose": 120,
                  "BloodPressure": "76.0",
                  "SkinThickness": "37.0",
                  "Insulin": "105.0",
                  "BMI": 39.7,
                  "DiabetesPedigreeFunction": 0.215,
                  "Age": 29,
                  "Outcome": 0,
                  "_deepnote_index_column": 622
                },
                {
                  "Pregnancies": 8,
                  "Glucose": 133,
                  "BloodPressure": "72.0",
                  "SkinThickness": "nan",
                  "Insulin": "nan",
                  "BMI": 32.9,
                  "DiabetesPedigreeFunction": 0.27,
                  "Age": 39,
                  "Outcome": 1,
                  "_deepnote_index_column": 623
                },
                {
                  "Pregnancies": 8,
                  "Glucose": 105,
                  "BloodPressure": "100.0",
                  "SkinThickness": "36.0",
                  "Insulin": "nan",
                  "BMI": 43.3,
                  "DiabetesPedigreeFunction": 0.239,
                  "Age": 45,
                  "Outcome": 1,
                  "_deepnote_index_column": 624
                },
                {
                  "Pregnancies": 10,
                  "Glucose": 148,
                  "BloodPressure": "84.0",
                  "SkinThickness": "48.0",
                  "Insulin": "237.0",
                  "BMI": 37.6,
                  "DiabetesPedigreeFunction": 1.001,
                  "Age": 51,
                  "Outcome": 1,
                  "_deepnote_index_column": 625
                },
                {
                  "Pregnancies": 0,
                  "Glucose": 124,
                  "BloodPressure": "56.0",
                  "SkinThickness": "13.0",
                  "Insulin": "105.0",
                  "BMI": 21.8,
                  "DiabetesPedigreeFunction": 0.452,
                  "Age": 21,
                  "Outcome": 0,
                  "_deepnote_index_column": 626
                },
                {
                  "Pregnancies": 8,
                  "Glucose": 112,
                  "BloodPressure": "72.0",
                  "SkinThickness": "nan",
                  "Insulin": "nan",
                  "BMI": 23.6,
                  "DiabetesPedigreeFunction": 0.84,
                  "Age": 58,
                  "Outcome": 0,
                  "_deepnote_index_column": 627
                },
                {
                  "Pregnancies": 5,
                  "Glucose": 99,
                  "BloodPressure": "54.0",
                  "SkinThickness": "28.0",
                  "Insulin": "83.0",
                  "BMI": 34,
                  "DiabetesPedigreeFunction": 0.499,
                  "Age": 30,
                  "Outcome": 0,
                  "_deepnote_index_column": 628
                },
                {
                  "Pregnancies": 1,
                  "Glucose": 111,
                  "BloodPressure": "86.0",
                  "SkinThickness": "19.0",
                  "Insulin": "nan",
                  "BMI": 30.1,
                  "DiabetesPedigreeFunction": 0.143,
                  "Age": 23,
                  "Outcome": 0,
                  "_deepnote_index_column": 629
                },
                {
                  "Pregnancies": 0,
                  "Glucose": 146,
                  "BloodPressure": "70.0",
                  "SkinThickness": "nan",
                  "Insulin": "nan",
                  "BMI": 37.9,
                  "DiabetesPedigreeFunction": 0.3339999999999999,
                  "Age": 28,
                  "Outcome": 1,
                  "_deepnote_index_column": 630
                },
                {
                  "Pregnancies": 2,
                  "Glucose": 90,
                  "BloodPressure": "80.0",
                  "SkinThickness": "14.0",
                  "Insulin": "55.0",
                  "BMI": 24.4,
                  "DiabetesPedigreeFunction": 0.249,
                  "Age": 24,
                  "Outcome": 0,
                  "_deepnote_index_column": 631
                },
                {
                  "Pregnancies": 5,
                  "Glucose": 116,
                  "BloodPressure": "74.0",
                  "SkinThickness": "nan",
                  "Insulin": "nan",
                  "BMI": 25.6,
                  "DiabetesPedigreeFunction": 0.201,
                  "Age": 30,
                  "Outcome": 0,
                  "_deepnote_index_column": 632
                },
                {
                  "Pregnancies": 6,
                  "Glucose": 108,
                  "BloodPressure": "44.0",
                  "SkinThickness": "20.0",
                  "Insulin": "130.0",
                  "BMI": 24,
                  "DiabetesPedigreeFunction": 0.813,
                  "Age": 35,
                  "Outcome": 0,
                  "_deepnote_index_column": 633
                },
                {
                  "Pregnancies": 3,
                  "Glucose": 103,
                  "BloodPressure": "72.0",
                  "SkinThickness": "30.0",
                  "Insulin": "152.0",
                  "BMI": 27.6,
                  "DiabetesPedigreeFunction": 0.73,
                  "Age": 27,
                  "Outcome": 0,
                  "_deepnote_index_column": 634
                },
                {
                  "Pregnancies": 0,
                  "Glucose": 129,
                  "BloodPressure": "80.0",
                  "SkinThickness": "nan",
                  "Insulin": "nan",
                  "BMI": 31.2,
                  "DiabetesPedigreeFunction": 0.703,
                  "Age": 29,
                  "Outcome": 0,
                  "_deepnote_index_column": 635
                },
                {
                  "Pregnancies": 7,
                  "Glucose": 133,
                  "BloodPressure": "88.0",
                  "SkinThickness": "15.0",
                  "Insulin": "155.0",
                  "BMI": 32.4,
                  "DiabetesPedigreeFunction": 0.262,
                  "Age": 37,
                  "Outcome": 0,
                  "_deepnote_index_column": 636
                },
                {
                  "Pregnancies": 2,
                  "Glucose": 98,
                  "BloodPressure": "60.0",
                  "SkinThickness": "17.0",
                  "Insulin": "120.0",
                  "BMI": 34.7,
                  "DiabetesPedigreeFunction": 0.198,
                  "Age": 22,
                  "Outcome": 0,
                  "_deepnote_index_column": 637
                },
                {
                  "Pregnancies": 2,
                  "Glucose": 95,
                  "BloodPressure": "54.0",
                  "SkinThickness": "14.0",
                  "Insulin": "88.0",
                  "BMI": 26.1,
                  "DiabetesPedigreeFunction": 0.748,
                  "Age": 22,
                  "Outcome": 0,
                  "_deepnote_index_column": 638
                },
                {
                  "Pregnancies": 4,
                  "Glucose": 136,
                  "BloodPressure": "70.0",
                  "SkinThickness": "nan",
                  "Insulin": "nan",
                  "BMI": 31.2,
                  "DiabetesPedigreeFunction": 1.182,
                  "Age": 22,
                  "Outcome": 1,
                  "_deepnote_index_column": 639
                },
                {
                  "Pregnancies": 7,
                  "Glucose": 119,
                  "BloodPressure": "nan",
                  "SkinThickness": "nan",
                  "Insulin": "nan",
                  "BMI": 25.2,
                  "DiabetesPedigreeFunction": 0.209,
                  "Age": 37,
                  "Outcome": 0,
                  "_deepnote_index_column": 640
                },
                {
                  "Pregnancies": 10,
                  "Glucose": 75,
                  "BloodPressure": "82.0",
                  "SkinThickness": "nan",
                  "Insulin": "nan",
                  "BMI": 33.3,
                  "DiabetesPedigreeFunction": 0.263,
                  "Age": 38,
                  "Outcome": 0,
                  "_deepnote_index_column": 641
                },
                {
                  "Pregnancies": 4,
                  "Glucose": 127,
                  "BloodPressure": "88.0",
                  "SkinThickness": "11.0",
                  "Insulin": "155.0",
                  "BMI": 34.5,
                  "DiabetesPedigreeFunction": 0.598,
                  "Age": 28,
                  "Outcome": 0,
                  "_deepnote_index_column": 642
                },
                {
                  "Pregnancies": 0,
                  "Glucose": 162,
                  "BloodPressure": "76.0",
                  "SkinThickness": "56.0",
                  "Insulin": "100.0",
                  "BMI": 53.2,
                  "DiabetesPedigreeFunction": 0.759,
                  "Age": 25,
                  "Outcome": 1,
                  "_deepnote_index_column": 643
                },
                {
                  "Pregnancies": 5,
                  "Glucose": 117,
                  "BloodPressure": "86.0",
                  "SkinThickness": "30.0",
                  "Insulin": "105.0",
                  "BMI": 39.1,
                  "DiabetesPedigreeFunction": 0.251,
                  "Age": 42,
                  "Outcome": 0,
                  "_deepnote_index_column": 644
                },
                {
                  "Pregnancies": 2,
                  "Glucose": 87,
                  "BloodPressure": "nan",
                  "SkinThickness": "23.0",
                  "Insulin": "nan",
                  "BMI": 28.9,
                  "DiabetesPedigreeFunction": 0.773,
                  "Age": 25,
                  "Outcome": 0,
                  "_deepnote_index_column": 645
                },
                {
                  "Pregnancies": 2,
                  "Glucose": 127,
                  "BloodPressure": "58.0",
                  "SkinThickness": "24.0",
                  "Insulin": "275.0",
                  "BMI": 27.7,
                  "DiabetesPedigreeFunction": 1.6,
                  "Age": 25,
                  "Outcome": 0,
                  "_deepnote_index_column": 646
                },
                {
                  "Pregnancies": 5,
                  "Glucose": 130,
                  "BloodPressure": "82.0",
                  "SkinThickness": "nan",
                  "Insulin": "nan",
                  "BMI": 39.1,
                  "DiabetesPedigreeFunction": 0.956,
                  "Age": 37,
                  "Outcome": 1,
                  "_deepnote_index_column": 647
                },
                {
                  "Pregnancies": 9,
                  "Glucose": 112,
                  "BloodPressure": "82.0",
                  "SkinThickness": "24.0",
                  "Insulin": "nan",
                  "BMI": 28.2,
                  "DiabetesPedigreeFunction": 1.2819999999999998,
                  "Age": 50,
                  "Outcome": 1,
                  "_deepnote_index_column": 648
                },
                {
                  "Pregnancies": 0,
                  "Glucose": 93,
                  "BloodPressure": "60.0",
                  "SkinThickness": "nan",
                  "Insulin": "nan",
                  "BMI": 35.3,
                  "DiabetesPedigreeFunction": 0.263,
                  "Age": 25,
                  "Outcome": 0,
                  "_deepnote_index_column": 649
                },
                {
                  "Pregnancies": 2,
                  "Glucose": 117,
                  "BloodPressure": "90.0",
                  "SkinThickness": "19.0",
                  "Insulin": "71.0",
                  "BMI": 25.2,
                  "DiabetesPedigreeFunction": 0.313,
                  "Age": 21,
                  "Outcome": 0,
                  "_deepnote_index_column": 650
                },
                {
                  "Pregnancies": 1,
                  "Glucose": 157,
                  "BloodPressure": "72.0",
                  "SkinThickness": "21.0",
                  "Insulin": "168.0",
                  "BMI": 25.6,
                  "DiabetesPedigreeFunction": 0.123,
                  "Age": 24,
                  "Outcome": 0,
                  "_deepnote_index_column": 651
                },
                {
                  "Pregnancies": 0,
                  "Glucose": 78,
                  "BloodPressure": "88.0",
                  "SkinThickness": "29.0",
                  "Insulin": "40.0",
                  "BMI": 36.9,
                  "DiabetesPedigreeFunction": 0.434,
                  "Age": 21,
                  "Outcome": 0,
                  "_deepnote_index_column": 652
                }
              ]
            },
            "text/plain": "     Pregnancies  Glucose  BloodPressure  SkinThickness  Insulin   BMI  \\\n0              1    138.0           82.0            NaN      NaN  40.1   \n1              3     90.0           78.0            NaN      NaN  42.7   \n2              2    109.0           92.0            NaN      NaN  42.7   \n3              1     71.0           78.0           50.0     45.0  33.2   \n4              0    167.0            NaN            NaN      NaN  32.3   \n..           ...      ...            ...            ...      ...   ...   \n648            9    112.0           82.0           24.0      NaN  28.2   \n649            0     93.0           60.0            NaN      NaN  35.3   \n650            2    117.0           90.0           19.0     71.0  25.2   \n651            1    157.0           72.0           21.0    168.0  25.6   \n652            0     78.0           88.0           29.0     40.0  36.9   \n\n     DiabetesPedigreeFunction  Age  Outcome  \n0                       0.236   28        0  \n1                       0.559   21        0  \n2                       0.845   54        0  \n3                       0.422   21        0  \n4                       0.839   30        1  \n..                        ...  ...      ...  \n648                     1.282   50        1  \n649                     0.263   25        0  \n650                     0.313   21        0  \n651                     0.123   24        0  \n652                     0.434   21        0  \n\n[653 rows x 9 columns]",
            "text/html": "<div>\n<style scoped>\n    .dataframe tbody tr th:only-of-type {\n        vertical-align: middle;\n    }\n\n    .dataframe tbody tr th {\n        vertical-align: top;\n    }\n\n    .dataframe thead th {\n        text-align: right;\n    }\n</style>\n<table border=\"1\" class=\"dataframe\">\n  <thead>\n    <tr style=\"text-align: right;\">\n      <th></th>\n      <th>Pregnancies</th>\n      <th>Glucose</th>\n      <th>BloodPressure</th>\n      <th>SkinThickness</th>\n      <th>Insulin</th>\n      <th>BMI</th>\n      <th>DiabetesPedigreeFunction</th>\n      <th>Age</th>\n      <th>Outcome</th>\n    </tr>\n  </thead>\n  <tbody>\n    <tr>\n      <th>0</th>\n      <td>1</td>\n      <td>138.0</td>\n      <td>82.0</td>\n      <td>NaN</td>\n      <td>NaN</td>\n      <td>40.1</td>\n      <td>0.236</td>\n      <td>28</td>\n      <td>0</td>\n    </tr>\n    <tr>\n      <th>1</th>\n      <td>3</td>\n      <td>90.0</td>\n      <td>78.0</td>\n      <td>NaN</td>\n      <td>NaN</td>\n      <td>42.7</td>\n      <td>0.559</td>\n      <td>21</td>\n      <td>0</td>\n    </tr>\n    <tr>\n      <th>2</th>\n      <td>2</td>\n      <td>109.0</td>\n      <td>92.0</td>\n      <td>NaN</td>\n      <td>NaN</td>\n      <td>42.7</td>\n      <td>0.845</td>\n      <td>54</td>\n      <td>0</td>\n    </tr>\n    <tr>\n      <th>3</th>\n      <td>1</td>\n      <td>71.0</td>\n      <td>78.0</td>\n      <td>50.0</td>\n      <td>45.0</td>\n      <td>33.2</td>\n      <td>0.422</td>\n      <td>21</td>\n      <td>0</td>\n    </tr>\n    <tr>\n      <th>4</th>\n      <td>0</td>\n      <td>167.0</td>\n      <td>NaN</td>\n      <td>NaN</td>\n      <td>NaN</td>\n      <td>32.3</td>\n      <td>0.839</td>\n      <td>30</td>\n      <td>1</td>\n    </tr>\n    <tr>\n      <th>...</th>\n      <td>...</td>\n      <td>...</td>\n      <td>...</td>\n      <td>...</td>\n      <td>...</td>\n      <td>...</td>\n      <td>...</td>\n      <td>...</td>\n      <td>...</td>\n    </tr>\n    <tr>\n      <th>648</th>\n      <td>9</td>\n      <td>112.0</td>\n      <td>82.0</td>\n      <td>24.0</td>\n      <td>NaN</td>\n      <td>28.2</td>\n      <td>1.282</td>\n      <td>50</td>\n      <td>1</td>\n    </tr>\n    <tr>\n      <th>649</th>\n      <td>0</td>\n      <td>93.0</td>\n      <td>60.0</td>\n      <td>NaN</td>\n      <td>NaN</td>\n      <td>35.3</td>\n      <td>0.263</td>\n      <td>25</td>\n      <td>0</td>\n    </tr>\n    <tr>\n      <th>650</th>\n      <td>2</td>\n      <td>117.0</td>\n      <td>90.0</td>\n      <td>19.0</td>\n      <td>71.0</td>\n      <td>25.2</td>\n      <td>0.313</td>\n      <td>21</td>\n      <td>0</td>\n    </tr>\n    <tr>\n      <th>651</th>\n      <td>1</td>\n      <td>157.0</td>\n      <td>72.0</td>\n      <td>21.0</td>\n      <td>168.0</td>\n      <td>25.6</td>\n      <td>0.123</td>\n      <td>24</td>\n      <td>0</td>\n    </tr>\n    <tr>\n      <th>652</th>\n      <td>0</td>\n      <td>78.0</td>\n      <td>88.0</td>\n      <td>29.0</td>\n      <td>40.0</td>\n      <td>36.9</td>\n      <td>0.434</td>\n      <td>21</td>\n      <td>0</td>\n    </tr>\n  </tbody>\n</table>\n<p>653 rows × 9 columns</p>\n</div>"
          },
          "metadata": {}
        }
      ]
    },
    {
      "cell_type": "code",
      "metadata": {
        "tags": [],
        "cell_id": "00025-bc654b6c-f5a0-4ccf-bb45-69a35d2339ed",
        "deepnote_to_be_reexecuted": false,
        "source_hash": "ed0334b7",
        "execution_millis": 90,
        "execution_start": 1619432869698,
        "output_cleared": true,
        "deepnote_cell_type": "code"
      },
      "source": "# 2) Affichez le descriptif des données (méthode describe).\n\n# On doit voir apparaître un certain nombre de statistiques descriptives pour les différentes variables\n# (moyenne, médiane, nombre de données manquantes, etc.)\n\n",
      "execution_count": 3,
      "outputs": []
    },
    {
      "cell_type": "markdown",
      "source": "# Pré-traitement et visualisation",
      "metadata": {
        "tags": [],
        "cell_id": "00004-aa135baf-db14-4951-a4a9-3d97a4dcbaa9",
        "deepnote_cell_type": "markdown"
      }
    },
    {
      "cell_type": "code",
      "metadata": {
        "tags": [],
        "cell_id": "00007-e0e409d6-dfc3-46ad-a3bc-56146d24294c",
        "deepnote_to_be_reexecuted": false,
        "source_hash": "6005b3c9",
        "execution_millis": 27,
        "execution_start": 1619432869770,
        "output_cleared": true,
        "deepnote_cell_type": "code"
      },
      "source": "# 3) Affichez la liste des noms des caractéristiques pour chaque patient (sans la colonne \"Outcome\" qui correspond à la classe 0 ou 1).\n# Assignez cette liste à une variable nommée 'features'.\n\n",
      "execution_count": 4,
      "outputs": []
    },
    {
      "cell_type": "code",
      "metadata": {
        "tags": [],
        "cell_id": "00012-a890119c-d756-4b18-81bb-62ab6cd6a9f2",
        "deepnote_to_be_reexecuted": false,
        "source_hash": "821ea402",
        "execution_millis": 3,
        "execution_start": 1619432869778,
        "output_cleared": true,
        "deepnote_cell_type": "code"
      },
      "source": "# 4) Exécutez le code suivant permettant d'appliquer une transformation des données. Identifiez la cause de l'erreur.\n\n# TODO décommenter\n# X_embedded = TSNE(n_components=2, random_state=42).fit_transform(train_data[features].values)\n# print(X_embedded.shape)",
      "execution_count": 5,
      "outputs": []
    },
    {
      "cell_type": "code",
      "metadata": {
        "tags": [],
        "cell_id": "00006-0a8fe50b-95ab-4fb6-a195-582f998c0867",
        "deepnote_to_be_reexecuted": false,
        "source_hash": "ba2888fb",
        "execution_millis": 20,
        "execution_start": 1619432869789,
        "output_cleared": true,
        "deepnote_cell_type": "code"
      },
      "source": "# 5) Que fait ce bloc de calcul ?\n\ndata_np = train_data.values        \n\nfor i in range(train_data.shape[1]):\n    column = data_np[:, i]\n    column = [np.random.choice(column[np.isfinite(column)]) if np.isnan(j) else j for j in column]\n    data_np[:, i] = column\n    \ntrain_data = pd.DataFrame(data_np, columns = train_data.columns)\nfeatures = train_data.columns[:-1]",
      "execution_count": 6,
      "outputs": []
    },
    {
      "cell_type": "markdown",
      "source": "## Visualisation avec TSNE",
      "metadata": {
        "tags": [],
        "cell_id": "00008-31e80da6-7400-4a54-97ef-a92386ff08ca",
        "deepnote_cell_type": "markdown"
      }
    },
    {
      "cell_type": "code",
      "metadata": {
        "tags": [],
        "cell_id": "00016-a98516d2-479e-4866-9e2c-233c4fc1eadc",
        "deepnote_to_be_reexecuted": false,
        "source_hash": "cb75fa86",
        "execution_millis": 4942,
        "execution_start": 1619432869857,
        "output_cleared": true,
        "deepnote_cell_type": "code"
      },
      "source": "# 6) Lancer ce bloc de calcul qui permet d'appliquer la méthode TSNE. \n\n# La méthode TSNE permet de projeter les données dans un nouvel espace de dimension plus réduite (ici en dimension 2), \n# de telle sorte que les données proches dans l'espace d'origine aient une probabilité élevée d'être proche dans le nouvel espace. \n# Pour plus de détails sur cette méthode, voir https://dataanalyticspost.com/Lexique/t-sne/\n\ntsne = TSNE(n_components=2, random_state=42)\nX_embedded = tsne.fit_transform(train_data[features].values)\nprint(X_embedded.shape)",
      "execution_count": 7,
      "outputs": []
    },
    {
      "cell_type": "code",
      "metadata": {
        "tags": [],
        "cell_id": "00018-dd104850-bc3f-455b-9f72-b1511ede94bd",
        "deepnote_to_be_reexecuted": false,
        "source_hash": "49d0b8e",
        "execution_millis": 2077,
        "execution_start": 1619432874793,
        "output_cleared": true,
        "deepnote_cell_type": "code"
      },
      "source": "# 7) Lancer ce bloc de calcul qui permet de visualiser les données dans le nouvel espace de dimension 2.\n\n# Les points de couleur bleue correspondent aux individus de la classe 0 (absence de diabète) et les points de couleur jaune \n# correspondent aux individus de la classe 1 (présence de diabète).\n\n# Qu'observez-vous au niveau de la répartition des points jaunes et bleus dans le nouvel espace ? \n# Que peut-on en déduire concernant les chances de succès d'une méthode de classification binaire ?\n\npx.scatter(X_embedded, x=0, y=1, color=train_data['Outcome'])",
      "execution_count": 8,
      "outputs": []
    },
    {
      "cell_type": "markdown",
      "source": "## Séparation des données",
      "metadata": {
        "tags": [],
        "cell_id": "00017-139ae0c9-98b6-4099-86fd-effa4db7db20",
        "deepnote_cell_type": "markdown"
      }
    },
    {
      "cell_type": "code",
      "metadata": {
        "tags": [],
        "cell_id": "00026-f0f342cb-e01b-42be-8bed-205ce3953563",
        "deepnote_to_be_reexecuted": false,
        "source_hash": "c94193ca",
        "execution_millis": 1,
        "execution_start": 1619432876862,
        "deepnote_cell_type": "code"
      },
      "source": "# On veut s'assurer que le modèle fonctionnera aussi pour de nouveaux patients. On sépare donc les données en un jeu d'entraînement et un jeu de \n# validation.\n\n# 8) Séparer les données de manière à avoir 80 % des données dans l'ensemble d'entraînement et 20 % pour l'ensemble de validation.\n# On appelera respectivement ces ensembles diabetes_train et diabetes_valid.\n\n\n",
      "execution_count": 9,
      "outputs": []
    },
    {
      "cell_type": "code",
      "metadata": {
        "tags": [],
        "cell_id": "00015-68598837-ebaa-4b4e-9bc9-813266abd4e7",
        "deepnote_to_be_reexecuted": false,
        "source_hash": "3625774b",
        "execution_millis": 43,
        "execution_start": 1619432876867,
        "output_cleared": true,
        "deepnote_cell_type": "code"
      },
      "source": "# 9) Séparer pour chaque ensemble les features (caractéristiques des patients) et la cible à prédire (\"outcome\").\n# On notera X_train, Y_train et X_valid, Y_valid respectivement les features et les cibles pour l'ensemble d'entraînement et de validation.\n\n",
      "execution_count": 10,
      "outputs": []
    },
    {
      "cell_type": "code",
      "metadata": {
        "tags": [],
        "cell_id": "00017-cddece51-6bdf-4608-a64b-24020291eaf3",
        "deepnote_to_be_reexecuted": false,
        "source_hash": "af24006c",
        "execution_millis": 15,
        "execution_start": 1619432876924,
        "output_cleared": true,
        "deepnote_cell_type": "code"
      },
      "source": "# 10) Renormaliser les données de façon à ce que chaque colonne des datasets d'entraînement et de validation soit de moyenne nulle \n# et d'écart type 1\n\n",
      "execution_count": 11,
      "outputs": []
    },
    {
      "cell_type": "markdown",
      "source": "# KPPV: K plus proches voisins\n\nLa méthode des K plus proches voisins est un algorithme d'apprentissage supervisé que l'on va utiliser pour classifier les points du jeu de données diabètes. À partir d'un point x dont on ne connait pas la classe (Outcome), on cherche les k plus proches voisins de x dans le jeu d'entraînement selon la distance euclidienne. On calcule la moyenne de la valeur de Outcome parmi les k plus proches voisins. Si elle est inférieure à 0.5, on considère que x appartient à la classe 0. Sinon, on considère que x appartient à la classe 1.\n\nhttps://fr.wikipedia.org/wiki/Méthode_des_k_plus_proches_voisins\n\nhttps://scikit-learn.org/stable/modules/neighbors.html#classification",
      "metadata": {
        "tags": [],
        "cell_id": "00029-2be56f33-d40a-4228-b6f7-a13fe7e24312",
        "deepnote_cell_type": "markdown"
      }
    },
    {
      "cell_type": "markdown",
      "source": "## Implémentation",
      "metadata": {
        "tags": [],
        "cell_id": "00030-a60ed21f-98e5-410f-9bb8-aaab54ccb384",
        "deepnote_cell_type": "markdown"
      }
    },
    {
      "cell_type": "code",
      "metadata": {
        "tags": [],
        "cell_id": "00032-59e0eea6-1ddf-4d80-9dc3-2cbfe41b8264",
        "deepnote_to_be_reexecuted": false,
        "source_hash": "b0dd133f",
        "execution_millis": 0,
        "execution_start": 1619432876925,
        "deepnote_cell_type": "code"
      },
      "source": "# 11) Définissez une fonction euclidean_distance(v1, v2), calculant la distance euclidienne entre les vecteurs v1 et v2.\n\n",
      "execution_count": 12,
      "outputs": []
    },
    {
      "cell_type": "code",
      "metadata": {
        "tags": [],
        "cell_id": "00019-6ab171af-079c-4e62-9570-720ad97245ef",
        "deepnote_to_be_reexecuted": false,
        "source_hash": "26430884",
        "execution_millis": 25,
        "execution_start": 1619432876926,
        "output_cleared": true,
        "deepnote_cell_type": "code"
      },
      "source": "# 12) Tester la fonction euclidean_distance avec deux points du dataset d'entraînement de façon à vérifier si calcul de distance fonctionne bien.\n\n",
      "execution_count": 13,
      "outputs": []
    },
    {
      "cell_type": "code",
      "metadata": {
        "tags": [],
        "cell_id": "00038-83df9c4e-b5f5-4163-b5d3-c067fd382801",
        "deepnote_to_be_reexecuted": false,
        "source_hash": "c12ae387",
        "execution_millis": 0,
        "execution_start": 1619432876931,
        "output_cleared": true,
        "deepnote_cell_type": "code"
      },
      "source": "# 13) Complétez la fonction suivante, qui sélectionne les k plus proches voisins du point x_test dans l'ensemble des points contenus dans X_train. \n\ndef neighbors(X_train, y_label, x_test, k):\n    list_distances =  []\n\n    # A compléter pour calculer la liste de toutes les distances entre le point \"x_test\" et tous les points contenus dans \"X_train\".\n    # Toutes ces distances seront ajoutées dans \"list_distances\"\n\n\n\n    df = pd.DataFrame()\n\n    df[\"label\"] = y_label\n    df[\"distance\"] = list_distances\n\n    df = df.sort_values(by=\"distance\")\n\n    return df.iloc[:k,:]\n",
      "execution_count": 14,
      "outputs": []
    },
    {
      "cell_type": "code",
      "metadata": {
        "tags": [],
        "cell_id": "00021-53c048fc-87aa-407d-9ee9-e102094b4803",
        "deepnote_to_be_reexecuted": false,
        "source_hash": "4247fc97",
        "execution_millis": 120,
        "execution_start": 1619432876933,
        "output_cleared": true,
        "deepnote_cell_type": "code"
      },
      "source": "# 14) Pour le premier point de l'ensemble de validation, affichez ses 5 plus proches voisins de l'ensemble d'entraînement.\n\n",
      "execution_count": 15,
      "outputs": []
    },
    {
      "cell_type": "code",
      "metadata": {
        "tags": [],
        "cell_id": "00039-94833f91-7958-4ad3-9266-840123e94795",
        "deepnote_to_be_reexecuted": false,
        "source_hash": "97bf6adc",
        "execution_millis": 0,
        "execution_start": 1619432877098,
        "output_cleared": true,
        "deepnote_cell_type": "code"
      },
      "source": "# 15) Compléter la fonction suivante qui prend en entrée un dataframe contenant les plus proches voisins d'un point avec leur classe \n# (obtenu par la méthode neighbors) et qui renvoie la classe prédite pour ce point.\n\ndef prediction(neighbors):\n",
      "execution_count": 16,
      "outputs": []
    },
    {
      "cell_type": "code",
      "metadata": {
        "tags": [],
        "cell_id": "00039-6c23c59a-bdf6-48fa-9d7b-5d714a1c30bb",
        "deepnote_to_be_reexecuted": false,
        "source_hash": "3966a2cb",
        "execution_millis": 13,
        "execution_start": 1619432877099,
        "output_cleared": true,
        "deepnote_cell_type": "code"
      },
      "source": "# 16) Afficher la prédiction du modèle pour le premier point de l'ensemble de validation\n\n\n",
      "execution_count": 17,
      "outputs": []
    },
    {
      "cell_type": "markdown",
      "source": "## Evaluation",
      "metadata": {
        "tags": [],
        "cell_id": "00036-8f3dcae3-8854-433a-8c57-4d24cbc5506a",
        "deepnote_cell_type": "markdown"
      }
    },
    {
      "cell_type": "code",
      "metadata": {
        "tags": [],
        "cell_id": "00025-6e7dd997-607e-4a8d-be10-1158b38dd467",
        "deepnote_to_be_reexecuted": false,
        "source_hash": "9536b3ff",
        "execution_millis": 9664,
        "execution_start": 1619432877135,
        "output_cleared": true,
        "deepnote_cell_type": "code"
      },
      "source": "# 17) Compléter la fonction evaluation qui permet de calculer et d'afficher le nombre de vrais positifs, de faux positifs, de vrais négatifs et \n# de faux négatifs pour un ensemble de validation donné en entrée. La fonction evaluation calcule également la métrique accuracy, qui correspond\n# à la proportion de prédictions correctes.\n\n\ndef evaluation(X_train, Y_train, X_valid, Y_valid, k, verbose=True):\n\n    TP=0 # prediction égale à 1 et cible égale à 1 (vrai positif)\n    FP=0 # prediction égale à 1 et cible égale à 0 (faux positif)\n\n    TN=0 # prediction égale à 0 et cible égale à 0 (vrai négatif)\n    FN=0 # prediction égale à 0 et cible égale à 1 (faux négatif)\n\n \n    \n\n\nevaluation(X_train, Y_train, X_valid, Y_valid, 5)",
      "execution_count": 18,
      "outputs": []
    },
    {
      "cell_type": "code",
      "metadata": {
        "tags": [],
        "cell_id": "00026-2ec1922d-8e88-4867-b280-83bc7339ab4b",
        "deepnote_to_be_reexecuted": false,
        "source_hash": "330a1e4",
        "execution_millis": 127027,
        "execution_start": 1619432886835,
        "output_cleared": true,
        "deepnote_cell_type": "code"
      },
      "source": "# 18) Lancer cette fonction d'évaluation pour différentes valeurs de k entre 1 et 19 de 2 en 2 et stocker les valeurs d'accuracy obtenues \n# dans une liste\n\nlist_accuracy = []\n\n\n",
      "execution_count": 19,
      "outputs": []
    },
    {
      "cell_type": "code",
      "metadata": {
        "tags": [],
        "cell_id": "00027-89351543-5f69-4c2d-80fe-1b7434644d91",
        "deepnote_to_be_reexecuted": false,
        "source_hash": "3fb94ff8",
        "execution_millis": 100,
        "execution_start": 1619433013864,
        "output_cleared": true,
        "deepnote_cell_type": "code"
      },
      "source": "# 19) Tracer une courbe qui montre l'évolution de l'accuracy en fonction de k. \n\n# Quelle valeur de k vous semble la plus pertinente ?\n\npx.line(x=range(1,19,2), y=list_accuracy, labels={'x':'k', 'y':'accuracy'})",
      "execution_count": 20,
      "outputs": []
    },
    {
      "cell_type": "code",
      "metadata": {
        "tags": [],
        "cell_id": "00028-7ddfbb53-adc7-4604-aeb9-7d2042639b71",
        "deepnote_to_be_reexecuted": false,
        "source_hash": "9f5c39dd",
        "execution_millis": 83866,
        "execution_start": 1619433013969,
        "output_cleared": true,
        "deepnote_cell_type": "code"
      },
      "source": "# 20) Affichage des frontières de décision\n\n\ndef plot_decision(X, y, k):\n\n\n    h = 0.2\n\n\n    x0_min, x0_max = X[:, 0].min() - 1, X[:, 0].max() + 1\n    x1_min, x1_max = X[:, 1].min() - 1, X[:, 1].max() + 1\n\n\n    xx0, xx1 = np.meshgrid(np.arange(x0_min, x0_max, h), np.arange(x1_min, x1_max, h))\n\n    xx0_flat = xx0.ravel()\n    xx1_flat = xx1.ravel()\n\n    X_entry = np.stack((xx0_flat, xx1_flat), axis=1)\n\n    y_pred = np.zeros((xx0_flat.shape[0]))\n\n\n    for i in tqdm(range(X_entry.shape[0])):\n\n    \n        nearest_neighbors = neighbors(pd.DataFrame(X), y, pd.DataFrame(X_entry).iloc[i], k)\n        y_pred[i] = prediction(nearest_neighbors)\n\n    preds = y_pred.reshape(xx0.shape)\n\n\n    cmap_light = ListedColormap(['#FFAAAA', '#AAFFAA'])\n    cmap_bold = ListedColormap(['#FF0000', '#00FF00'])\n\n    plt.figure()\n    plt.pcolormesh(xx0, xx1, preds, cmap=cmap_light)\n    plt.xlim(xx0.min(), xx0.max())\n    plt.ylim(xx1.min(), xx1.max())\n\n    plt.scatter(X[:, 0], X[:, 1], c=y, cmap=cmap_bold)\n    plt.show()\n\n\nplot_decision(X_train[[\"Glucose\",\"BMI\"]].values, Y_train, 19)",
      "execution_count": 21,
      "outputs": []
    },
    {
      "cell_type": "code",
      "metadata": {
        "tags": [],
        "cell_id": "00030-bd4596dc-316e-40f7-9dc1-aae69dc1fc79",
        "deepnote_to_be_reexecuted": false,
        "source_hash": "b166f91a",
        "execution_millis": 3444,
        "execution_start": 1619433097838,
        "output_cleared": true,
        "deepnote_cell_type": "code"
      },
      "source": "plot_decision(X_train[[\"Glucose\",\"BMI\"]].values, Y_train, 1)",
      "execution_count": 22,
      "outputs": []
    },
    {
      "cell_type": "markdown",
      "source": "# Application du modèle sur des données de test",
      "metadata": {
        "tags": [],
        "cell_id": "00032-48fa1654-cc24-4144-bfb6-d16cae613448",
        "deepnote_cell_type": "markdown"
      }
    },
    {
      "cell_type": "code",
      "metadata": {
        "tags": [],
        "cell_id": "00032-ecd320b3-e7e5-4624-bc82-26fe5581828b",
        "deepnote_to_be_reexecuted": true,
        "source_hash": "8773a4c3",
        "execution_millis": 0,
        "output_cleared": true,
        "deepnote_cell_type": "code"
      },
      "source": "# 21) Charger le fichier diabetes_test_data.csv et appliquer votre modèle pour prédire les classes de chaque patient.\n\n# 22) Pensez à normaliser ces données d'entrée.\n\n# 23) Calculer la précision en test de votre modèle avec le fichier diabetes_test_target.csv",
      "execution_count": null,
      "outputs": []
    },
    {
      "cell_type": "markdown",
      "source": "# Arbre de décision\n\nOn va maintenant utiliser un modèle de type arbre de décision pour classifier les valeurs du jeu de données. À partir des données d'entraînement, le modèle construit un ensemble de règles arborescentes pour séparer les données selon des critères portant sur les valeurs des différentes colonnes.\n\nhttps://fr.wikipedia.org/wiki/Arbre_de_décision\n\nhttps://scikit-learn.org/stable/modules/generated/sklearn.tree.DecisionTreeClassifier.html\n\n",
      "metadata": {
        "tags": [],
        "cell_id": "00031-fa7854d6-4b18-4872-98d9-58f1e6f76987",
        "deepnote_cell_type": "markdown"
      }
    },
    {
      "cell_type": "markdown",
      "source": "## Entraînement",
      "metadata": {
        "tags": [],
        "cell_id": "00031-ef0339e5-1f25-4344-b29e-e024c260c38f",
        "deepnote_cell_type": "markdown"
      }
    },
    {
      "cell_type": "code",
      "metadata": {
        "tags": [],
        "cell_id": "00026-2631c937-7f9f-4bfb-82e5-d91e93180e3b",
        "deepnote_to_be_reexecuted": true,
        "source_hash": "8383a0ed",
        "execution_millis": 93,
        "output_cleared": true,
        "deepnote_cell_type": "code"
      },
      "source": "tree = DecisionTreeClassifier(max_depth=5, criterion=\"entropy\")\ntree.fit(X_train.values, Y_train.values)\n",
      "execution_count": null,
      "outputs": []
    },
    {
      "cell_type": "markdown",
      "source": "## Évaluation",
      "metadata": {
        "tags": [],
        "cell_id": "00037-012d63ef-c654-4a38-90c9-a8b086eca744",
        "deepnote_cell_type": "markdown"
      }
    },
    {
      "cell_type": "code",
      "metadata": {
        "tags": [],
        "cell_id": "00038-6d7af6da-c95f-450f-87a4-f7b218f65a0c",
        "deepnote_to_be_reexecuted": true,
        "source_hash": "1571873a",
        "execution_millis": 34,
        "output_cleared": true,
        "deepnote_cell_type": "code"
      },
      "source": "def evaluation(X_train, Y_train, X_valid, Y_valid, tree_model, verbose=True):\n\n    TP=0 # prediction égale à 1 et cible égale à 1 (vrai positif)\n    FP=0 # prediction égale à 1 et cible égale à 0 (faux positif)\n\n    TN=0 # prediction égale à 0 et cible égale à 0 (vrai négatif)\n    FN=0 # prediction égale à 0 et cible égale à 1 (faux négatif)\n\n    total = 0\n\n    y_pred = tree_model.predict(X_valid)\n\n    for i in range(X_valid.shape[0]):\n\n        \n\n        if ((y_pred[i] == 1) and (Y_valid.iloc[i]==1)): \n            TP += 1\n        elif ((y_pred[i] == 1) and (Y_valid.iloc[i]==0)):\n            FP+=1\n        elif ((y_pred[i] == 0) and (Y_valid.iloc[i]==0)): \n            TN+=1\n        elif ((y_pred[i] == 0) and (Y_valid.iloc[i]==1)):\n            FN+=1\n\n        total += 1 \n\n    accuracy = (TP + TN)/total\n\n    if verbose:\n        print(\"Vrais positifs : \" + str(TP)) \n        print(\"Faux positifs : \" + str(FP)) \n        print(\"Vrais négatifs : \" + str(TN))\n        print(\"Faux négatifs : \" + str(FN))\n\n        print(\"Accuracy:\" + str(accuracy))\n\n    return accuracy\n    \nevaluation(X_train, Y_train, X_valid, Y_valid, tree)",
      "execution_count": null,
      "outputs": []
    },
    {
      "cell_type": "markdown",
      "source": "## Affichage de l'arbre de décision appris",
      "metadata": {
        "tags": [],
        "cell_id": "00039-3b2e2b8f-d833-4b08-b906-bc3291fb76d4",
        "deepnote_cell_type": "markdown"
      }
    },
    {
      "cell_type": "code",
      "metadata": {
        "tags": [],
        "cell_id": "00027-17ca9579-f140-4937-85f0-05b886aeeebe",
        "deepnote_to_be_reexecuted": true,
        "source_hash": "50f9d9fd",
        "execution_millis": 23504,
        "output_cleared": true,
        "deepnote_cell_type": "code"
      },
      "source": "fig, axes = plt.subplots(nrows = 1,ncols = 1,figsize = (4,4), dpi=2000)\n\nplot_tree(tree,\n          feature_names = features, \n          class_names=[\"0\", \"1\"],\n          filled = True);\n\nplt.savefig(\"tree.png\")",
      "execution_count": null,
      "outputs": []
    },
    {
      "cell_type": "markdown",
      "source": "## Visualisation des données : BMI en fonction de Glucose",
      "metadata": {
        "tags": [],
        "cell_id": "00041-d0e97b69-d7e3-4042-80a7-a3208120e8de",
        "deepnote_cell_type": "markdown"
      }
    },
    {
      "cell_type": "code",
      "metadata": {
        "tags": [],
        "cell_id": "00031-4ef39625-571d-47cf-a46c-c32c432446a8",
        "deepnote_to_be_reexecuted": true,
        "source_hash": "4418d0dd",
        "execution_millis": 44,
        "output_cleared": true,
        "deepnote_cell_type": "code"
      },
      "source": "px.scatter(X_train, x='Glucose', y='BMI', color=Y_train)",
      "execution_count": null,
      "outputs": []
    },
    {
      "cell_type": "markdown",
      "source": "<a style='text-decoration:none;line-height:16px;display:flex;color:#5B5B62;padding:10px;justify-content:end;' href='https://deepnote.com?utm_source=created-in-deepnote-cell&projectId=dfc7f148-2d3d-4f28-9094-9ccf4e67d784' target=\"_blank\">\n<img alt='Created in deepnote.com' style='display:inline;max-height:16px;margin:0px;margin-right:7.5px;' src='data:image/svg+xml;base64,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' > </img>\nCreated in <span style='font-weight:600;margin-left:4px;'>Deepnote</span></a>",
      "metadata": {
        "tags": [],
        "created_in_deepnote_cell": true,
        "deepnote_cell_type": "markdown"
      }
    }
  ],
  "nbformat": 4,
  "nbformat_minor": 2,
  "metadata": {
    "orig_nbformat": 2,
    "deepnote_notebook_id": "94ec1a9b-eec3-44b2-ba4d-a75a1f201c06",
    "deepnote": {
      "is_reactive": false
    },
    "deepnote_execution_queue": []
  }
}